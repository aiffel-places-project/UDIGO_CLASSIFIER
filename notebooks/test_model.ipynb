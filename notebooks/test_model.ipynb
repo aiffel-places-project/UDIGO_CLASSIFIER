{
 "cells": [
  {
   "cell_type": "markdown",
   "metadata": {
    "toc": true
   },
   "source": [
    "<h1>Contents<span class=\"tocSkip\"></span></h1>\n",
    "<div class=\"toc\"><ul class=\"toc-item\"><li><span><a href=\"#load-model\" data-toc-modified-id=\"load-model-1\">load model</a></span></li><li><span><a href=\"#test-model\" data-toc-modified-id=\"test-model-2\">test model</a></span></li></ul></div>"
   ]
  },
  {
   "cell_type": "markdown",
   "metadata": {},
   "source": [
    "# load model"
   ]
  },
  {
   "cell_type": "code",
   "execution_count": 1,
   "metadata": {},
   "outputs": [],
   "source": [
    "import os\n",
    "import glob\n",
    "import cv2\n",
    "import tensorflow as tf\n",
    "import numpy as np\n",
    "import json\n",
    "from tqdm.notebook import tqdm\n",
    "import collections"
   ]
  },
  {
   "cell_type": "code",
   "execution_count": 2,
   "metadata": {},
   "outputs": [],
   "source": [
    "work_dir = os.path.join(os.getenv(\"HOME\"), \"UDIGO\")\n",
    "model_dir = os.path.join(work_dir, \"models\")\n",
    "test_dir = os.path.join(work_dir, \"test_data\")\n",
    "data_dir = os.path.join(work_dir, \"data\")"
   ]
  },
  {
   "cell_type": "code",
   "execution_count": 3,
   "metadata": {},
   "outputs": [
    {
     "data": {
      "text/plain": [
       "['test5_efnb0_24-0.01-1.00.h5',\n",
       " 'place23_efnb0_3-0.26-0.92.h5',\n",
       " 'test5_efnb0_28-0.01-1.00.h5',\n",
       " 'place10_efnb0_9-0.04-0.99.h5',\n",
       " 'place10_efnb1_6-0.02-0.99.h5']"
      ]
     },
     "execution_count": 3,
     "metadata": {},
     "output_type": "execute_result"
    }
   ],
   "source": [
    "model_list = os.listdir(model_dir)\n",
    "model_list"
   ]
  },
  {
   "cell_type": "code",
   "execution_count": 4,
   "metadata": {},
   "outputs": [],
   "source": [
    "model = tf.keras.models.load_model(os.path.join(model_dir, model_list[1]))"
   ]
  },
  {
   "cell_type": "code",
   "execution_count": 5,
   "metadata": {},
   "outputs": [
    {
     "name": "stdout",
     "output_type": "stream",
     "text": [
      "Model: \"model\"\n",
      "_________________________________________________________________\n",
      "Layer (type)                 Output Shape              Param #   \n",
      "=================================================================\n",
      "input_2 (InputLayer)         [(None, 224, 224, 3)]     0         \n",
      "_________________________________________________________________\n",
      "efficientnetb0 (Functional)  (None, 1280)              4049571   \n",
      "_________________________________________________________________\n",
      "dense (Dense)                (None, 512)               655872    \n",
      "_________________________________________________________________\n",
      "batch_normalization (BatchNo (None, 512)               2048      \n",
      "_________________________________________________________________\n",
      "dense_1 (Dense)              (None, 23)                11799     \n",
      "=================================================================\n",
      "Total params: 4,719,290\n",
      "Trainable params: 4,676,243\n",
      "Non-trainable params: 43,047\n",
      "_________________________________________________________________\n"
     ]
    }
   ],
   "source": [
    "model.summary()"
   ]
  },
  {
   "cell_type": "markdown",
   "metadata": {},
   "source": [
    "# test model"
   ]
  },
  {
   "cell_type": "code",
   "execution_count": 6,
   "metadata": {},
   "outputs": [],
   "source": [
    "def test_model(img_path):\n",
    "    image = cv2.imread(img_path, cv2.IMREAD_COLOR)\n",
    "    image = cv2.cvtColor(image, cv2.COLOR_BGR2RGB)\n",
    "    image = cv2.resize(image, (224, 224))\n",
    "    image = image[np.newaxis, :, :, :]\n",
    "    pred = model.predict(image, batch_size=1)\n",
    "    return np.argmax(pred)"
   ]
  },
  {
   "cell_type": "code",
   "execution_count": 7,
   "metadata": {},
   "outputs": [],
   "source": [
    "with open(os.path.join(data_dir, \"place_23_label.json\"), \"r\") as f:\n",
    "    label_dict = json.load(f)"
   ]
  },
  {
   "cell_type": "code",
   "execution_count": 8,
   "metadata": {},
   "outputs": [
    {
     "data": {
      "text/plain": [
       "4518"
      ]
     },
     "execution_count": 8,
     "metadata": {},
     "output_type": "execute_result"
    }
   ],
   "source": [
    "image_list = glob.glob(test_dir + \"/*/*\")\n",
    "len(image_list)"
   ]
  },
  {
   "cell_type": "code",
   "execution_count": 9,
   "metadata": {},
   "outputs": [
    {
     "data": {
      "text/plain": [
       "['/home/ssac21/UDIGO/test_data/산/87.jpg',\n",
       " '/home/ssac21/UDIGO/test_data/산/183.jpg',\n",
       " '/home/ssac21/UDIGO/test_data/산/138.jpg',\n",
       " '/home/ssac21/UDIGO/test_data/산/6.jpg',\n",
       " '/home/ssac21/UDIGO/test_data/산/178.jpg',\n",
       " '/home/ssac21/UDIGO/test_data/산/180.jpg',\n",
       " '/home/ssac21/UDIGO/test_data/산/67.jpg',\n",
       " '/home/ssac21/UDIGO/test_data/산/192.jpg',\n",
       " '/home/ssac21/UDIGO/test_data/산/184.jpg',\n",
       " '/home/ssac21/UDIGO/test_data/산/153.jpg']"
      ]
     },
     "execution_count": 9,
     "metadata": {},
     "output_type": "execute_result"
    }
   ],
   "source": [
    "image_list[:10]"
   ]
  },
  {
   "cell_type": "code",
   "execution_count": 10,
   "metadata": {},
   "outputs": [
    {
     "data": {
      "application/vnd.jupyter.widget-view+json": {
       "model_id": "ebb6bd4fc0ae4722bfe39e846974cb68",
       "version_major": 2,
       "version_minor": 0
      },
      "text/plain": [
       "HBox(children=(FloatProgress(value=0.0, max=4518.0), HTML(value='')))"
      ]
     },
     "metadata": {},
     "output_type": "display_data"
    },
    {
     "name": "stdout",
     "output_type": "stream",
     "text": [
      "Invalid image: /home/ssac21/UDIGO/test_data/수영장/c02_01_04_img2.gif\n",
      "Invalid image: /home/ssac21/UDIGO/test_data/수영장/c02_04_04_img1.gif\n",
      "Invalid image: /home/ssac21/UDIGO/test_data/수영장/facil_intro02.gif\n",
      "Invalid image: /home/ssac21/UDIGO/test_data/수영장/1513145177337_36103fc5a6d9429c90c4d9d033df365e.gif\n",
      "Invalid image: /home/ssac21/UDIGO/test_data/폭포/8c214fd58507879d1c2e7ab5cca31743.gif\n",
      "Invalid image: /home/ssac21/UDIGO/test_data/아쿠아리움/070506553201908240084b19e-97ec-4ee2-b208-2c01c3c3fa1d.gif\n",
      "Invalid image: /home/ssac21/UDIGO/test_data/공원/30.jpg\n",
      "\n",
      "4511 data, test complete!\n"
     ]
    }
   ],
   "source": [
    "label_list = []\n",
    "correct_dict = {}\n",
    "correct = 0\n",
    "n = 0\n",
    "\n",
    "for image in tqdm(image_list):\n",
    "    try:\n",
    "        pred = test_model(image)\n",
    "        n += 1\n",
    "\n",
    "        label = image.split(\"/\")[-2]\n",
    "        label_list.append(label)\n",
    "        if label not in correct_dict:\n",
    "            correct_dict[label] = 0\n",
    "\n",
    "        label_encoding = label_dict[label]\n",
    "        if pred == label_encoding:\n",
    "            correct_dict[label] += 1\n",
    "            correct += 1\n",
    "    \n",
    "    except:\n",
    "        print(\"Invalid image:\", image)\n",
    "        continue\n",
    "        \n",
    "print(f\"{n} data, test complete!\")"
   ]
  },
  {
   "cell_type": "code",
   "execution_count": 11,
   "metadata": {},
   "outputs": [
    {
     "data": {
      "text/plain": [
       "{'산': 193,\n",
       " '시장': 149,\n",
       " '수영장': 168,\n",
       " '놀이공원': 127,\n",
       " '미술관': 168,\n",
       " '클럽': 163,\n",
       " '호텔': 196,\n",
       " '박물관': 163,\n",
       " '동물원': 183,\n",
       " '아이스링크': 176,\n",
       " '지하철역': 173,\n",
       " '폭포': 198,\n",
       " '놀이터': 149,\n",
       " '아쿠아리움': 174,\n",
       " '절': 84,\n",
       " '다리': 170,\n",
       " '쇼핑몰': 84,\n",
       " '공원': 189,\n",
       " '공항': 143,\n",
       " '교회': 197,\n",
       " '궁궐': 161,\n",
       " '성당': 156,\n",
       " '볼링장': 191}"
      ]
     },
     "execution_count": 11,
     "metadata": {},
     "output_type": "execute_result"
    }
   ],
   "source": [
    "correct_dict"
   ]
  },
  {
   "cell_type": "code",
   "execution_count": 12,
   "metadata": {},
   "outputs": [
    {
     "data": {
      "text/plain": [
       "Counter({'산': 200,\n",
       "         '시장': 200,\n",
       "         '수영장': 196,\n",
       "         '놀이공원': 187,\n",
       "         '미술관': 200,\n",
       "         '클럽': 201,\n",
       "         '호텔': 200,\n",
       "         '박물관': 200,\n",
       "         '동물원': 200,\n",
       "         '아이스링크': 200,\n",
       "         '지하철역': 200,\n",
       "         '폭포': 199,\n",
       "         '놀이터': 175,\n",
       "         '아쿠아리움': 199,\n",
       "         '절': 139,\n",
       "         '다리': 210,\n",
       "         '쇼핑몰': 200,\n",
       "         '공원': 199,\n",
       "         '공항': 200,\n",
       "         '교회': 201,\n",
       "         '궁궐': 200,\n",
       "         '성당': 205,\n",
       "         '볼링장': 200})"
      ]
     },
     "execution_count": 12,
     "metadata": {},
     "output_type": "execute_result"
    }
   ],
   "source": [
    "count = collections.Counter(label_list)\n",
    "count"
   ]
  },
  {
   "cell_type": "code",
   "execution_count": 13,
   "metadata": {},
   "outputs": [
    {
     "data": {
      "text/plain": [
       "{'산': 0.965,\n",
       " '시장': 0.745,\n",
       " '수영장': 0.8571,\n",
       " '놀이공원': 0.6791,\n",
       " '미술관': 0.84,\n",
       " '클럽': 0.8109,\n",
       " '호텔': 0.98,\n",
       " '박물관': 0.815,\n",
       " '동물원': 0.915,\n",
       " '아이스링크': 0.88,\n",
       " '지하철역': 0.865,\n",
       " '폭포': 0.995,\n",
       " '놀이터': 0.8514,\n",
       " '아쿠아리움': 0.8744,\n",
       " '절': 0.6043,\n",
       " '다리': 0.8095,\n",
       " '쇼핑몰': 0.42,\n",
       " '공원': 0.9497,\n",
       " '공항': 0.715,\n",
       " '교회': 0.9801,\n",
       " '궁궐': 0.805,\n",
       " '성당': 0.761,\n",
       " '볼링장': 0.955}"
      ]
     },
     "execution_count": 13,
     "metadata": {},
     "output_type": "execute_result"
    }
   ],
   "source": [
    "accuracy_dict = {}\n",
    "for label in correct_dict:\n",
    "    accuracy_dict[label] = round(correct_dict[label]/count[label], 4)\n",
    "\n",
    "accuracy_dict"
   ]
  },
  {
   "cell_type": "code",
   "execution_count": 14,
   "metadata": {},
   "outputs": [
    {
     "name": "stdout",
     "output_type": "stream",
     "text": [
      "Test Accuracy: 0.8324\n"
     ]
    }
   ],
   "source": [
    "accuracy = round(correct/n, 4)\n",
    "print(\"Test Accuracy:\", accuracy)"
   ]
  }
 ],
 "metadata": {
  "kernelspec": {
   "display_name": "Python 3",
   "language": "python",
   "name": "python3"
  },
  "language_info": {
   "codemirror_mode": {
    "name": "ipython",
    "version": 3
   },
   "file_extension": ".py",
   "mimetype": "text/x-python",
   "name": "python",
   "nbconvert_exporter": "python",
   "pygments_lexer": "ipython3",
   "version": "3.7.6"
  },
  "toc": {
   "base_numbering": 1,
   "nav_menu": {},
   "number_sections": false,
   "sideBar": true,
   "skip_h1_title": false,
   "title_cell": "Contents",
   "title_sidebar": "Contents",
   "toc_cell": true,
   "toc_position": {},
   "toc_section_display": true,
   "toc_window_display": false
  }
 },
 "nbformat": 4,
 "nbformat_minor": 4
}
