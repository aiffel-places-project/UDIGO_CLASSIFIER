{
 "cells": [
  {
   "cell_type": "markdown",
   "metadata": {},
   "source": [
    "# 구글에서 이미지를 크롤링 합니다"
   ]
  },
  {
   "cell_type": "markdown",
   "metadata": {},
   "source": [
    "# 라이브러리 설치"
   ]
  },
  {
   "cell_type": "code",
   "execution_count": 1,
   "metadata": {},
   "outputs": [
    {
     "name": "stdout",
     "output_type": "stream",
     "text": [
      "Requirement already satisfied: selenium in /home/myungjin-kim/anaconda3/envs/aiffel/lib/python3.7/site-packages (3.141.0)\n",
      "Requirement already satisfied: urllib3 in /home/myungjin-kim/anaconda3/envs/aiffel/lib/python3.7/site-packages (from selenium) (1.25.11)\n",
      "Requirement already satisfied: webdriver-manager in /home/myungjin-kim/anaconda3/envs/aiffel/lib/python3.7/site-packages (3.4.2)\n",
      "Requirement already satisfied: configparser in /home/myungjin-kim/anaconda3/envs/aiffel/lib/python3.7/site-packages (from webdriver-manager) (5.0.2)\n",
      "Requirement already satisfied: crayons in /home/myungjin-kim/anaconda3/envs/aiffel/lib/python3.7/site-packages (from webdriver-manager) (0.4.0)\n",
      "Requirement already satisfied: requests in /home/myungjin-kim/anaconda3/envs/aiffel/lib/python3.7/site-packages (from webdriver-manager) (2.25.0)\n",
      "Requirement already satisfied: colorama in /home/myungjin-kim/anaconda3/envs/aiffel/lib/python3.7/site-packages (from crayons->webdriver-manager) (0.4.4)\n",
      "Requirement already satisfied: certifi>=2017.4.17 in /home/myungjin-kim/anaconda3/envs/aiffel/lib/python3.7/site-packages (from requests->webdriver-manager) (2020.12.5)\n",
      "Requirement already satisfied: urllib3<1.27,>=1.21.1 in /home/myungjin-kim/anaconda3/envs/aiffel/lib/python3.7/site-packages (from requests->webdriver-manager) (1.25.11)\n",
      "Requirement already satisfied: chardet<4,>=3.0.2 in /home/myungjin-kim/anaconda3/envs/aiffel/lib/python3.7/site-packages (from requests->webdriver-manager) (3.0.4)\n",
      "Requirement already satisfied: idna<3,>=2.5 in /home/myungjin-kim/anaconda3/envs/aiffel/lib/python3.7/site-packages (from requests->webdriver-manager) (2.10)\n"
     ]
    }
   ],
   "source": [
    "import sys\n",
    "!{sys.executable} -m pip install selenium\n",
    "!{sys.executable} -m pip install webdriver-manager"
   ]
  },
  {
   "cell_type": "markdown",
   "metadata": {},
   "source": [
    "# 중요!! 크롬 버전을 설정하세요"
   ]
  },
  {
   "cell_type": "code",
   "execution_count": 2,
   "metadata": {},
   "outputs": [],
   "source": [
    "CHROME_VERSION = '90.0.4430.24'"
   ]
  },
  {
   "cell_type": "markdown",
   "metadata": {},
   "source": [
    "# 중요!! 다운로드 폴더를 적어주세요\n",
    "{다운로드폴더}/{검색어}/ 에 이미지가 저장됩니다"
   ]
  },
  {
   "cell_type": "code",
   "execution_count": 3,
   "metadata": {},
   "outputs": [],
   "source": [
    "import os\n",
    "DOWNLOAD_DIR = './images/google'\n",
    "if not os.path.exists(DOWNLOAD_DIR):\n",
    "    os.makedirs(DOWNLOAD_DIR, exist_ok=True)"
   ]
  },
  {
   "cell_type": "markdown",
   "metadata": {},
   "source": [
    "# 코드 시작"
   ]
  },
  {
   "cell_type": "code",
   "execution_count": 4,
   "metadata": {
    "scrolled": true
   },
   "outputs": [],
   "source": [
    "from selenium import webdriver\n",
    "from selenium.webdriver.common.keys import Keys\n",
    "from webdriver_manager.chrome import ChromeDriverManager\n",
    "import time\n",
    "import urllib.request\n",
    "from pathlib import Path\n",
    "\n",
    "SCROLL_PAUSE_TIME = 1\n",
    "BASE_URL =\"https://www.google.com/search?hl=ko&tbm=isch&q=\""
   ]
  },
  {
   "cell_type": "code",
   "execution_count": 5,
   "metadata": {},
   "outputs": [],
   "source": [
    "def crawl_image(query):\n",
    "    image_dir = os.path.join(DOWNLOAD_DIR, query)\n",
    "    if not os.path.exists(image_dir):\n",
    "        os.makedirs(image_dir, exist_ok=True)\n",
    "    \n",
    "    driver = webdriver.Chrome(ChromeDriverManager(version=CHROME_VERSION).install())\n",
    "    driver.get(BASE_URL)\n",
    "    elem = driver.find_element_by_name(\"q\")\n",
    "    elem.send_keys(query)\n",
    "    elem.send_keys(Keys.RETURN)\n",
    "\n",
    "    last_height = driver.execute_script(\"return document.body.scrollHeight\")\n",
    "    while True:\n",
    "        driver.execute_script(\"window.scrollTo(0, document.body.scrollHeight);\")\n",
    "\n",
    "        time.sleep(SCROLL_PAUSE_TIME)\n",
    "\n",
    "        continue_button = driver.find_element_by_xpath('//input[@class=\"mye4qd\"]')\n",
    "        if continue_button.is_displayed():\n",
    "            continue_button.click()\n",
    "            continue\n",
    "        \n",
    "        new_height = driver.execute_script(\"return document.body.scrollHeight\")\n",
    "        if new_height == last_height:\n",
    "            break\n",
    "        last_height = new_height\n",
    "\n",
    "    prev_url = None\n",
    "\n",
    "    images = driver.find_elements_by_css_selector(\".rg_i.Q4LuWd\")\n",
    "    count = 1\n",
    "    for image in images:\n",
    "        try: \n",
    "            image.click()\n",
    "            time.sleep(2)\n",
    "            img_url = driver.find_element_by_xpath('//div[@class=\"tvh9oe BIB1wf\"]/c-wiz/div/div/div/div/div[2]/a/img').get_attribute('src')\n",
    "            if img_url.startswith('http') and (img_url != prev_url):\n",
    "                file_name = Path(img_url).name\n",
    "                urllib.request.urlretrieve(img_url, os.path.join(image_dir, file_name))\n",
    "                prev_url = img_url\n",
    "                count = count + 1\n",
    "\n",
    "        except:\n",
    "            pass\n",
    "            \n",
    "    driver.close()"
   ]
  },
  {
   "cell_type": "markdown",
   "metadata": {},
   "source": [
    "# 크롤링은 아래에서"
   ]
  },
  {
   "cell_type": "code",
   "execution_count": 8,
   "metadata": {
    "scrolled": true
   },
   "outputs": [
    {
     "name": "stderr",
     "output_type": "stream",
     "text": [
      "\n",
      "\n",
      "====== WebDriver manager ======\n",
      "Current google-chrome version is 90.0.4430\n",
      "Driver [/home/myungjin-kim/.wdm/drivers/chromedriver/linux64/90.0.4430.24/chromedriver] found in cache\n"
     ]
    }
   ],
   "source": [
    "crawl_image('DDP')"
   ]
  },
  {
   "cell_type": "code",
   "execution_count": null,
   "metadata": {},
   "outputs": [],
   "source": []
  }
 ],
 "metadata": {
  "kernelspec": {
   "display_name": "aiffel",
   "language": "python",
   "name": "aiffel"
  },
  "language_info": {
   "codemirror_mode": {
    "name": "ipython",
    "version": 3
   },
   "file_extension": ".py",
   "mimetype": "text/x-python",
   "name": "python",
   "nbconvert_exporter": "python",
   "pygments_lexer": "ipython3",
   "version": "3.7.9"
  }
 },
 "nbformat": 4,
 "nbformat_minor": 5
}
